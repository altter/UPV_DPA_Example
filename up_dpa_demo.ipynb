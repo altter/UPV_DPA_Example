{
 "cells": [
  {
   "cell_type": "markdown",
   "id": "eeb2a202-4592-4b79-b6fe-43db5913f82a",
   "metadata": {},
   "source": [
    " ## Importar paquetes\n",
    " \n",
    " trsfile interpreta el archivo que contiene las trazas"
   ]
  },
  {
   "cell_type": "code",
   "execution_count": null,
   "id": "3c3d1aa8-7642-4656-9274-5802d4877ddf",
   "metadata": {
    "tags": []
   },
   "outputs": [],
   "source": [
    "import trsfile\n",
    "import matplotlib.pyplot as plt\n",
    "import numpy as np\n",
    "from sklearn.preprocessing import StandardScaler\n",
    "from tqdm.notebook import tnrange, tqdm"
   ]
  },
  {
   "cell_type": "code",
   "execution_count": null,
   "id": "376dff5f-0273-4559-9357-c31f1153bd31",
   "metadata": {
    "tags": []
   },
   "outputs": [],
   "source": [
    "print (trsfile.__version__)"
   ]
  },
  {
   "cell_type": "markdown",
   "id": "a2a2208f-3730-44a0-86a9-6059b2f33bfa",
   "metadata": {},
   "source": [
    "## Definir constantes"
   ]
  },
  {
   "cell_type": "code",
   "execution_count": null,
   "id": "602c4e42-6521-4c2a-9a11-4c86c60679fc",
   "metadata": {
    "tags": []
   },
   "outputs": [],
   "source": [
    "trs_dataset_path = r'trace_dataset.trs'\n",
    "trs_dataset = trsfile.open(trs_dataset_path, mode='r')\n",
    "plot_size = {'width':15, 'height':4}\n",
    "\n",
    "AES_Sbox = np.array([\n",
    "        0x63, 0x7C, 0x77, 0x7B, 0xF2, 0x6B, 0x6F, 0xC5, 0x30, 0x01, 0x67, 0x2B, 0xFE, 0xD7, 0xAB, 0x76,\n",
    "        0xCA, 0x82, 0xC9, 0x7D, 0xFA, 0x59, 0x47, 0xF0, 0xAD, 0xD4, 0xA2, 0xAF, 0x9C, 0xA4, 0x72, 0xC0,\n",
    "        0xB7, 0xFD, 0x93, 0x26, 0x36, 0x3F, 0xF7, 0xCC, 0x34, 0xA5, 0xE5, 0xF1, 0x71, 0xD8, 0x31, 0x15,\n",
    "        0x04, 0xC7, 0x23, 0xC3, 0x18, 0x96, 0x05, 0x9A, 0x07, 0x12, 0x80, 0xE2, 0xEB, 0x27, 0xB2, 0x75,\n",
    "        0x09, 0x83, 0x2C, 0x1A, 0x1B, 0x6E, 0x5A, 0xA0, 0x52, 0x3B, 0xD6, 0xB3, 0x29, 0xE3, 0x2F, 0x84,\n",
    "        0x53, 0xD1, 0x00, 0xED, 0x20, 0xFC, 0xB1, 0x5B, 0x6A, 0xCB, 0xBE, 0x39, 0x4A, 0x4C, 0x58, 0xCF,\n",
    "        0xD0, 0xEF, 0xAA, 0xFB, 0x43, 0x4D, 0x33, 0x85, 0x45, 0xF9, 0x02, 0x7F, 0x50, 0x3C, 0x9F, 0xA8,\n",
    "        0x51, 0xA3, 0x40, 0x8F, 0x92, 0x9D, 0x38, 0xF5, 0xBC, 0xB6, 0xDA, 0x21, 0x10, 0xFF, 0xF3, 0xD2,\n",
    "        0xCD, 0x0C, 0x13, 0xEC, 0x5F, 0x97, 0x44, 0x17, 0xC4, 0xA7, 0x7E, 0x3D, 0x64, 0x5D, 0x19, 0x73,\n",
    "        0x60, 0x81, 0x4F, 0xDC, 0x22, 0x2A, 0x90, 0x88, 0x46, 0xEE, 0xB8, 0x14, 0xDE, 0x5E, 0x0B, 0xDB,\n",
    "        0xE0, 0x32, 0x3A, 0x0A, 0x49, 0x06, 0x24, 0x5C, 0xC2, 0xD3, 0xAC, 0x62, 0x91, 0x95, 0xE4, 0x79,\n",
    "        0xE7, 0xC8, 0x37, 0x6D, 0x8D, 0xD5, 0x4E, 0xA9, 0x6C, 0x56, 0xF4, 0xEA, 0x65, 0x7A, 0xAE, 0x08,\n",
    "        0xBA, 0x78, 0x25, 0x2E, 0x1C, 0xA6, 0xB4, 0xC6, 0xE8, 0xDD, 0x74, 0x1F, 0x4B, 0xBD, 0x8B, 0x8A,\n",
    "        0x70, 0x3E, 0xB5, 0x66, 0x48, 0x03, 0xF6, 0x0E, 0x61, 0x35, 0x57, 0xB9, 0x86, 0xC1, 0x1D, 0x9E,\n",
    "        0xE1, 0xF8, 0x98, 0x11, 0x69, 0xD9, 0x8E, 0x94, 0x9B, 0x1E, 0x87, 0xE9, 0xCE, 0x55, 0x28, 0xDF,\n",
    "        0x8C, 0xA1, 0x89, 0x0D, 0xBF, 0xE6, 0x42, 0x68, 0x41, 0x99, 0x2D, 0x0F, 0xB0, 0x54, 0xBB, 0x16\n",
    "        ], dtype=np.uint8)\n",
    "\n",
    "INV_SBOX = np.array([\n",
    "    0x52, 0x09, 0x6A, 0xD5, 0x30, 0x36, 0xA5, 0x38, 0xBF, 0x40, 0xA3, 0x9E, 0x81, 0xF3, 0xD7, 0xFB,\n",
    "    0x7C, 0xE3, 0x39, 0x82, 0x9B, 0x2F, 0xFF, 0x87, 0x34, 0x8E, 0x43, 0x44, 0xC4, 0xDE, 0xE9, 0xCB,\n",
    "    0x54, 0x7B, 0x94, 0x32, 0xA6, 0xC2, 0x23, 0x3D, 0xEE, 0x4C, 0x95, 0x0B, 0x42, 0xFA, 0xC3, 0x4E,\n",
    "    0x08, 0x2E, 0xA1, 0x66, 0x28, 0xD9, 0x24, 0xB2, 0x76, 0x5B, 0xA2, 0x49, 0x6D, 0x8B, 0xD1, 0x25,\n",
    "    0x72, 0xF8, 0xF6, 0x64, 0x86, 0x68, 0x98, 0x16, 0xD4, 0xA4, 0x5C, 0xCC, 0x5D, 0x65, 0xB6, 0x92,\n",
    "    0x6C, 0x70, 0x48, 0x50, 0xFD, 0xED, 0xB9, 0xDA, 0x5E, 0x15, 0x46, 0x57, 0xA7, 0x8D, 0x9D, 0x84,\n",
    "    0x90, 0xD8, 0xAB, 0x00, 0x8C, 0xBC, 0xD3, 0x0A, 0xF7, 0xE4, 0x58, 0x05, 0xB8, 0xB3, 0x45, 0x06,\n",
    "    0xD0, 0x2C, 0x1E, 0x8F, 0xCA, 0x3F, 0x0F, 0x02, 0xC1, 0xAF, 0xBD, 0x03, 0x01, 0x13, 0x8A, 0x6B,\n",
    "    0x3A, 0x91, 0x11, 0x41, 0x4F, 0x67, 0xDC, 0xEA, 0x97, 0xF2, 0xCF, 0xCE, 0xF0, 0xB4, 0xE6, 0x73,\n",
    "    0x96, 0xAC, 0x74, 0x22, 0xE7, 0xAD, 0x35, 0x85, 0xE2, 0xF9, 0x37, 0xE8, 0x1C, 0x75, 0xDF, 0x6E,\n",
    "    0x47, 0xF1, 0x1A, 0x71, 0x1D, 0x29, 0xC5, 0x89, 0x6F, 0xB7, 0x62, 0x0E, 0xAA, 0x18, 0xBE, 0x1B,\n",
    "    0xFC, 0x56, 0x3E, 0x4B, 0xC6, 0xD2, 0x79, 0x20, 0x9A, 0xDB, 0xC0, 0xFE, 0x78, 0xCD, 0x5A, 0xF4,\n",
    "    0x1F, 0xDD, 0xA8, 0x33, 0x88, 0x07, 0xC7, 0x31, 0xB1, 0x12, 0x10, 0x59, 0x27, 0x80, 0xEC, 0x5F,\n",
    "    0x60, 0x51, 0x7F, 0xA9, 0x19, 0xB5, 0x4A, 0x0D, 0x2D, 0xE5, 0x7A, 0x9F, 0x93, 0xC9, 0x9C, 0xEF,\n",
    "    0xA0, 0xE0, 0x3B, 0x4D, 0xAE, 0x2A, 0xF5, 0xB0, 0xC8, 0xEB, 0xBB, 0x3C, 0x83, 0x53, 0x99, 0x61,\n",
    "    0x17, 0x2B, 0x04, 0x7E, 0xBA, 0x77, 0xD6, 0x26, 0xE1, 0x69, 0x14, 0x63, 0x55, 0x21, 0x0C, 0x7D\n",
    "    ], dtype=np.uint8)\n",
    "\n",
    "RCON = (\n",
    "    0x00, 0x01, 0x02, 0x04, 0x08, 0x10, 0x20, 0x40,\n",
    "    0x80, 0x1B, 0x36, 0x6C, 0xD8, 0xAB, 0x4D, 0x9A,\n",
    "    0x2F, 0x5E, 0xBC, 0x63, 0xC6, 0x97, 0x35, 0x6A,\n",
    "    0xD4, 0xB3, 0x7D, 0xFA, 0xEF, 0xC5, 0x91, 0x39,\n",
    ")"
   ]
  },
  {
   "cell_type": "markdown",
   "id": "313c8e50-dca2-4d51-a065-f323b093e2d6",
   "metadata": {},
   "source": [
    "## Caracteristicas del dataset"
   ]
  },
  {
   "cell_type": "code",
   "execution_count": null,
   "id": "c3f2338b-75df-494a-97a4-9f4613c5637e",
   "metadata": {
    "tags": []
   },
   "outputs": [],
   "source": [
    "print ('Número de trazas:', len(trs_dataset))\n",
    "print ('-----------------------------------------------------------')\n",
    "print ('Número de muestras (puntos por traza): ', len(trs_dataset[0]))\n",
    "print ('-----------------------------------------------------------')\n",
    "data_sample = np.frombuffer(trs_dataset[0].data, dtype=np.uint8)\n",
    "data_sample2 = np.frombuffer(trs_dataset[1].data, dtype=np.uint8)\n",
    "print ('Longitud de la metadata:', len(data_sample))\n",
    "print ('-----------------------------------------------------------')\n",
    "print ('Metadata de la primera traza:', data_sample)\n",
    "print ('-----------------------------------------------------------')\n",
    "print ('Metadata de la segunda traza:', data_sample2)\n",
    "print ('-----------------------------------------------------------')\n",
    "print ('plaintext de la primera traza:', data_sample[0:16])\n",
    "print ('-----------------------------------------------------------')\n",
    "print ('plaintext de la segunda traza:', data_sample2[0:16])\n",
    "print ('-----------------------------------------------------------')\n",
    "print ('ciphertext de la primera traza:', data_sample[16:])\n",
    "print ('-----------------------------------------------------------')\n",
    "print ('ciphertext de la segunda traza:', data_sample2[16:])\n",
    "print ('-----------------------------------------------------------')"
   ]
  },
  {
   "cell_type": "markdown",
   "id": "17758275-95dc-4be9-b7db-2b03099472b5",
   "metadata": {},
   "source": [
    "## Plot de demostración (traza recopilada durante el proceso de desencriptado)"
   ]
  },
  {
   "cell_type": "code",
   "execution_count": null,
   "id": "12519dc6-968e-428d-9937-d07665fecf81",
   "metadata": {
    "tags": []
   },
   "outputs": [],
   "source": [
    "plt.style.use('./plot_styles/pltstyle.mplstyle')\n",
    "plt.plot(trs_dataset[0])\n",
    "plt.show()\n",
    "plt.close()"
   ]
  },
  {
   "cell_type": "markdown",
   "id": "6da9907a-9d19-4e0c-9293-b7539163a963",
   "metadata": {
    "jp-MarkdownHeadingCollapsed": true,
    "tags": []
   },
   "source": [
    "## Funciones de [pre-]procesamiento"
   ]
  },
  {
   "cell_type": "code",
   "execution_count": null,
   "id": "24667af7-09a7-4db4-9252-26f7011a2078",
   "metadata": {
    "tags": []
   },
   "outputs": [],
   "source": [
    "##--\n",
    "##\n",
    "##---------------------------------------------------------------------------------------------------\n",
    "def compute_mean_std_data_byte(trs_file, number_traces, plaintext_byte):   \n",
    "    # Create a StandardScaler for each byte position\n",
    "    trace_mean_std  = StandardScaler()\n",
    "    byte_scaler = StandardScaler()\n",
    "\n",
    "    for i in tnrange(number_traces, desc='[INFO]: computing mean and std (byte pos: {})'.format(plaintext_byte)):\n",
    "        # partially fit the scaler of a byte position\n",
    "        meta = trs_file[i].data\n",
    "        byte_scaler.partial_fit(np.array(meta[plaintext_byte]).reshape(1, -1))\n",
    "        trace_mean_std.partial_fit(np.array(trs_file[i]).reshape(1, -1))\n",
    "\n",
    "    return ([trace_mean_std.mean_, trace_mean_std.var_], [byte_scaler.mean_, byte_scaler.var_])\n",
    "\n",
    "##--\n",
    "##\n",
    "##---------------------------------------------------------------------------------------------------\n",
    "def compute_corr(trs_file, number_traces, plaintext_byte):\n",
    "    # Get group\n",
    "    n_samples = len(trs_file[0])\n",
    "    samples_corr    = np.zeros(shape=(n_samples,), dtype=np.float64)\n",
    "\n",
    "    all_means_std = compute_mean_std_data_byte(trs_file, number_traces, plaintext_byte)\n",
    "    samples_mean  = all_means_std[0][0]\n",
    "    samples_std   = np.sqrt(all_means_std[0][1])\n",
    "    metadata_mean = all_means_std[1][0]\n",
    "    metadata_std  = np.sqrt(all_means_std[1][1])\n",
    "\n",
    "    for i in tnrange(number_traces, desc='[INFO]: computing correlation (byte pos: {})'.format(plaintext_byte)):\n",
    "        meta         = trs_file[i].data\n",
    "        samples_corr = np.add(samples_corr, (trs_file[i] - samples_mean) * (meta[plaintext_byte] - metadata_mean))\n",
    "\n",
    "    if np.count_nonzero(metadata_std) == 0 or np.count_nonzero(samples_std) == 0:\n",
    "        print ('[WARNING]: Metadata or samples standard deviation of AES Sbox plaintext {} and key {} is zero'.format(plaintext_byte, key_byte))\n",
    "        print ('[INFO]: Returning zero correlation')\n",
    "    else:\n",
    "        samples_corr = np.true_divide(samples_corr, ((number_traces - 1) * samples_std * metadata_std))\n",
    "    return samples_corr\n",
    "\n",
    "##--\n",
    "##\n",
    "##---------------------------------------------------------------------------------------------------\n",
    "def compute_mean_std_sbox(trs_file, number_traces, plaintext_byte, key_byte):\n",
    "    # Create a StandardScaler for each byte position\n",
    "    trace_mean_std  = StandardScaler()\n",
    "    aes_sbox_scaler = StandardScaler()\n",
    "\n",
    "    for i in tnrange(number_traces, desc='[INFO]: mean and std sbox(pt pos: {}, key pos: {})'.format(plaintext_byte, key_byte)):\n",
    "        # partially fit the scaler of a byte position\n",
    "        meta = trs_file[i]\n",
    "        aes_sbox_scaler.partial_fit(np.array(AES_Sbox[meta[plaintext_byte] ^ meta[key_byte]]).reshape(1, -1))\n",
    "        trace_mean_std.partial_fit(np.array(trs_file[i]).reshape(1, -1))\n",
    "\n",
    "    return ([trace_mean_std.mean_, trace_mean_std.var_], [aes_sbox_scaler.mean_, aes_sbox_scaler.var_])\n",
    "\n",
    "##--\n",
    "##\n",
    "##---------------------------------------------------------------------------------------------------\n",
    "def compute_corr_sbox(trs_file, number_traces, plaintext_byte, key_byte):\n",
    "    \n",
    "    n_samples = len(trs_file[0])\n",
    "    samples_corr    = np.zeros(shape=(n_samples,), dtype=np.float64)\n",
    "\n",
    "    all_means_std = compute_mean_std_sbox(trs_file, number_traces, plaintext_byte, key_byte)\n",
    "    samples_mean  = all_means_std[0][0]\n",
    "    samples_std   = np.sqrt(all_means_std[0][1])\n",
    "    metadata_mean = all_means_std[1][0]\n",
    "    metadata_std  = np.sqrt(all_means_std[1][1])\n",
    "\n",
    "    for i in tnrange(number_traces, desc='[INFO]: computing corr sbox(pt: {},key: {})'.format(plaintext_byte, key_byte)):\n",
    "        meta         = trs_file[i]\n",
    "        samples_corr = np.add(samples_corr, (trs_file[i] - samples_mean) * (AES_Sbox[meta[plaintext_byte] ^ meta[key_byte]] - metadata_mean))\n",
    "\n",
    "    if np.count_nonzero(metadata_std) == 0 or np.count_nonzero(samples_std) == 0:\n",
    "        print ('[WARNING]: Metadata or samples standard deviation of AES Sbox plaintext {} and key {} is zero'.format(plaintext_byte, key_byte))\n",
    "        print ('[INFO]: Returning zero correlation')\n",
    "    else:\n",
    "        samples_corr = np.true_divide(samples_corr, ((number_traces - 1) * samples_std * metadata_std))\n",
    "    return samples_corr"
   ]
  },
  {
   "cell_type": "markdown",
   "id": "3ff9d0cc-ed89-41ae-a1fa-d9c6c420c48a",
   "metadata": {
    "tags": []
   },
   "source": [
    "## Analisis de correlación"
   ]
  },
  {
   "cell_type": "code",
   "execution_count": null,
   "id": "4b0ca5a4-ffcf-4faf-b74b-2825a625a9cc",
   "metadata": {
    "tags": []
   },
   "outputs": [],
   "source": [
    "corr = compute_corr(trs_dataset, 2000, 16)"
   ]
  },
  {
   "cell_type": "code",
   "execution_count": null,
   "id": "fed30bf0-3183-4708-a168-3a8c5d7cd80e",
   "metadata": {
    "tags": []
   },
   "outputs": [],
   "source": [
    "plt.style.use('./plot_styles/pltstyle.mplstyle')\n",
    "plt.plot(np.abs(corr))\n",
    "plt.show()\n",
    "plt.close()"
   ]
  },
  {
   "cell_type": "markdown",
   "id": "2d0546fe-eb0c-4464-9d42-c9767c5ced19",
   "metadata": {
    "tags": []
   },
   "source": [
    "## Realizar ataque utilizando Diferential Power Analysis (DPA)"
   ]
  },
  {
   "cell_type": "markdown",
   "id": "e6b4e9dc-0b47-42b2-b1c0-be89979a596b",
   "metadata": {
    "tags": []
   },
   "source": [
    "### Funciones para back-scheduling"
   ]
  },
  {
   "cell_type": "code",
   "execution_count": null,
   "id": "4720ad39-2e5d-4ff4-96e5-37c803e25ea8",
   "metadata": {
    "tags": []
   },
   "outputs": [],
   "source": [
    "def forward_key_schedule(key, n_rounds):\n",
    "    round_keys = list(key)\n",
    "    for i in range(4, 4*(n_rounds+1)):\n",
    "        a0, a1, a2, a3 = round_keys[(i-1)*4 : i*4]\n",
    "        if i % 4 == 0:\n",
    "            a0, a1, a2, a3 = AES_Sbox[a1], AES_Sbox[a2], AES_Sbox[a3], AES_Sbox[a0]\n",
    "            a0 = a0 ^ RCON[i//4]\n",
    "        b0, b1, b2, b3 = round_keys[(i-4)*4 : (i-3)*4]\n",
    "        round_keys.extend([a0^b0, a1^b1, a2^b2, a3^b3])\n",
    "    return round_keys\n",
    "\n",
    "def backward_key_schedule(last_round_key, n_rounds):\n",
    "    round_keys = list(last_round_key)\n",
    "    for i in range(n_rounds, 0, -1):\n",
    "        b12 = round_keys[12] ^ round_keys[8]\n",
    "        b13 = round_keys[13] ^ round_keys[9]\n",
    "        b14 = round_keys[14] ^ round_keys[10]\n",
    "        b15 = round_keys[15] ^ round_keys[11]\n",
    "\n",
    "        b8  = round_keys[8 ] ^ round_keys[4]\n",
    "        b9  = round_keys[9 ] ^ round_keys[5]\n",
    "        b10 = round_keys[10] ^ round_keys[6]\n",
    "        b11 = round_keys[11] ^ round_keys[7]\n",
    "\n",
    "        b4 = round_keys[4] ^ round_keys[0]\n",
    "        b5 = round_keys[5] ^ round_keys[1]\n",
    "        b6 = round_keys[6] ^ round_keys[2]\n",
    "        b7 = round_keys[7] ^ round_keys[3]\n",
    "\n",
    "        a0, a1, a2, a3 = AES_Sbox[b13], AES_Sbox[b14], AES_Sbox[b15], AES_Sbox[b12]\n",
    "        a0 = a0 ^ RCON[i]\n",
    "\n",
    "        b0 = a0 ^ round_keys[0]\n",
    "        b1 = a1 ^ round_keys[1]\n",
    "        b2 = a2 ^ round_keys[2]\n",
    "        b3 = a3 ^ round_keys[3]\n",
    "        \n",
    "        round_keys = [b0, b1, b2, b3, b4, b5, b6, b7, b8, b9, b10, b11, b12, b13, b14, b15] + round_keys\n",
    "    return round_keys"
   ]
  },
  {
   "cell_type": "markdown",
   "id": "b0e54f3e-fb4c-428a-8126-fa04c2af9f7c",
   "metadata": {},
   "source": [
    "### Algoritmo del DPA"
   ]
  },
  {
   "cell_type": "code",
   "execution_count": null,
   "id": "390af3bb-2bde-4b8d-b973-61c263acb187",
   "metadata": {
    "tags": []
   },
   "outputs": [],
   "source": [
    "databyte_pos_init = 16\n",
    "databyte_pos_end  = 32\n",
    "data_length       = 16 #por AES-128\n",
    "used_points_init  = 0\n",
    "used_points_end   = 29000\n",
    "verbose           = True\n",
    "\n",
    "number_of_bits = 8\n",
    "\n",
    "ciphertext_array = np.empty(shape=(len(trs_dataset), data_length), dtype=np.uint8)\n",
    "interval = [0, ciphertext_array.shape[0]]\n",
    "\n",
    "for i in tnrange(interval[0], interval[1], desc='[INFO]: Getting ciphertext'):\n",
    "    ciphertext_array[i] = np.frombuffer(trs_dataset[i].data[databyte_pos_init:databyte_pos_end], dtype=np.uint8)\n",
    "\n",
    "for bit in tnrange(number_of_bits, desc=\"[INFO]: Iterando por los bits del byte\"):\n",
    "    recovered_key = []\n",
    "    for byte_pos in tnrange(16, desc=\"[INFO]: Iterando por los bytes de la posible llave\"):\n",
    "        delta = []\n",
    "        for key_guess in tnrange(256, desc=\"[INFO]: Iterando por todas los posibles valores de un byte de la llave\", leave=False):\n",
    "            zero_count = 0\n",
    "            one_count  = 0\n",
    "            zero_list  = np.array([0.0] * (used_points_end-used_points_init))\n",
    "            one_list   = np.array([0.0] * (used_points_end-used_points_init))\n",
    "            \n",
    "            #-------------------------------------------------------------------------------------------\n",
    "            # Una de las partes mas interesante --------------------------------------------------------\n",
    "            for trace_index in range (interval[0], interval[1]):\n",
    "                intermediate_value = INV_SBOX[ciphertext_array[trace_index][byte_pos] ^ key_guess]\n",
    "                target_bit = (intermediate_value >> bit) & 1\n",
    "                if target_bit == 0:\n",
    "                    zero_list  += trs_dataset[trace_index][used_points_init:used_points_end]\n",
    "                    zero_count += 1\n",
    "                else:\n",
    "                    one_list   += trs_dataset[trace_index][used_points_init:used_points_end]\n",
    "                    one_count  += 1\n",
    "                    \n",
    "            #-------------------------------------------------------------------------------------------\n",
    "            \n",
    "            # Aqui se calcula las medias de los grupos (del grupo 1 y del grupo 0)                        \n",
    "            mean_delta_accu = np.abs((one_list/one_count) - (zero_list/zero_count))\n",
    "            delta.append(np.max(mean_delta_accu))\n",
    "        \n",
    "        assert len(delta) == 256\n",
    "        delta = np.array(delta)\n",
    "        predicted_byte = delta.argmax()\n",
    "        recovered_key.append(predicted_byte)\n",
    "    print(\"Round key:\", bytes(recovered_key[:16]).hex())\n",
    "    round_keys = backward_key_schedule(recovered_key, n_rounds=10)\n",
    "    print(\"Possible key:\", bytes(round_keys[:16]).hex())\n"
   ]
  },
  {
   "cell_type": "markdown",
   "id": "a8f53648-34a7-4b17-9255-9b038b74d627",
   "metadata": {},
   "source": [
    "## Probando llave"
   ]
  },
  {
   "cell_type": "code",
   "execution_count": null,
   "id": "e0737ac9-4136-419b-ad85-52c8f7b4642c",
   "metadata": {},
   "outputs": [],
   "source": [
    "from Crypto.Cipher import AES\n",
    "\n",
    "key = bytes.fromhex(\"<<Insertar la clave>>\")\n",
    "\n",
    "\n",
    "aes128 = AES.new(key, AES.MODE_ECB)\n",
    "verbose = True\n",
    "count = 0\n",
    "bar = tqdm(len(trs_dataset), desc=\"[INFO]: Probando la llave contra todos los plaintext\")\n",
    "for aTrace in trs_dataset:\n",
    "    plaintext = aTrace.data[:16]\n",
    "    ciphertext = aes128.encrypt(plaintext)\n",
    "    ciphertext_from_trace = aTrace.data[16:]\n",
    "    if verbose and count == 0:\n",
    "        print(\"[INFO]: Plaintext\", plaintext.hex())\n",
    "        print(\"[INFO]: Ciphertext (plaintext encriptado por el algoritmo):\")\n",
    "        print(ciphertext.hex())\n",
    "        print(\"[INFO]: ciphertext contenido en la información de la traza:\")\n",
    "        print(ciphertext_from_trace.hex())\n",
    "        count += 1\n",
    "        if ciphertext.hex() == ciphertext_from_trace.hex():\n",
    "            print(\"[INFO]: CONTRASEÑA DESCUBIERTA!!\")\n",
    "        else:\n",
    "            print(\"[INFO]: TU NO PASARAS!!\")\n",
    "    bar.update()"
   ]
  }
 ],
 "metadata": {
  "kernelspec": {
   "display_name": "Python 3 (ipykernel)",
   "language": "python",
   "name": "python3"
  },
  "language_info": {
   "codemirror_mode": {
    "name": "ipython",
    "version": 3
   },
   "file_extension": ".py",
   "mimetype": "text/x-python",
   "name": "python",
   "nbconvert_exporter": "python",
   "pygments_lexer": "ipython3",
   "version": "3.7.9"
  }
 },
 "nbformat": 4,
 "nbformat_minor": 5
}
